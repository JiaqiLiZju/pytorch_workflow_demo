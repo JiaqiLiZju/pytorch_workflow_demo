{
 "cells": [
  {
   "cell_type": "code",
   "execution_count": 1,
   "metadata": {},
   "outputs": [],
   "source": [
    "import torch\n",
    "from torch import nn\n",
    "import torch.nn.functional as F\n",
    "import torch.utils.data as Data\n",
    "\n",
    "import matplotlib.pyplot as plt\n",
    "from sklearn.model_selection import train_test_split\n",
    "import numpy as np\n",
    "\n",
    "from torchvision import datasets, transforms\n",
    "from torch.nn import init"
   ]
  },
  {
   "cell_type": "code",
   "execution_count": 2,
   "metadata": {},
   "outputs": [
    {
     "name": "stdout",
     "output_type": "stream",
     "text": [
      "(1000,)\n",
      "(1000,)\n"
     ]
    },
    {
     "data": {
      "image/png": "[encoded data removed]",
      "text/plain": [
       "<Figure size 432x288 with 1 Axes>"
      ]
     },
     "metadata": {
      "needs_background": "light"
     },
     "output_type": "display_data"
    }
   ],
   "source": [
    "#创建fake data\n",
    "# torch.manual_seed(99)\n",
    "# x = torch.unsqueeze(torch.linspace(-1, 1, 1000), dim=1)\n",
    "# y = x.pow(2) + 0.1 * torch.normal(torch.zeros(x.size()))\n",
    "# plt.scatter(x.numpy(), y.numpy())\n",
    "# plt.show()\n",
    " \n",
    "np.random.seed(666)\n",
    "X = np.linspace(-1, 1, 1000)\n",
    "y = np.power(X, 2) + 0.1 * np.random.normal(0, 1, X.size)\n",
    "print(X.shape)\n",
    "print(y.shape)\n",
    "plt.scatter(X, y)\n",
    "plt.show()"
   ]
  },
  {
   "cell_type": "code",
   "execution_count": 3,
   "metadata": {},
   "outputs": [
    {
     "data": {
      "text/plain": [
       "(torch.Size([700, 1]), torch.Size([700, 1]))"
      ]
     },
     "execution_count": 3,
     "metadata": {},
     "output_type": "execute_result"
    }
   ],
   "source": [
    "# 创建训练集和测试集\n",
    "X_train, X_test, y_train, y_test = train_test_split(X, y, test_size=0.3, random_state=1024)\n",
    "\n",
    "X_train = torch.from_numpy(X_train).type(torch.FloatTensor)\n",
    "X_train = torch.unsqueeze(X_train, dim=1)  #转换成二维\n",
    "y_train = torch.from_numpy(y_train).type(torch.FloatTensor)\n",
    "y_train = torch.unsqueeze(y_train, dim=1)\n",
    "\n",
    "X_test = torch.from_numpy(X_test).type(torch.FloatTensor)\n",
    "X_test = torch.unsqueeze(X_test, dim=1)  #转换成二维\n",
    "\n",
    "X_train.shape, y_train.shape"
   ]
  },
  {
   "cell_type": "code",
   "execution_count": 4,
   "metadata": {},
   "outputs": [],
   "source": [
    "BATCH_SIZE = 50\n",
    "LR = 0.02\n",
    "EPOCH = 5"
   ]
  },
  {
   "cell_type": "code",
   "execution_count": 5,
   "metadata": {},
   "outputs": [
    {
     "data": {
      "text/plain": [
       "(torch.Size([50, 1]), torch.Size([50, 1]))"
      ]
     },
     "execution_count": 5,
     "metadata": {},
     "output_type": "execute_result"
    }
   ],
   "source": [
    "#将数据装载dataloader中, 对数据进行分批训练\n",
    "torch_data  = Data.TensorDataset(X_train, y_train)\n",
    "loader = Data.DataLoader(dataset=torch_data, batch_size=BATCH_SIZE, shuffle=True)\n",
    "next(iter(loader))[0].shape, next(iter(loader))[-1].shape"
   ]
  },
  {
   "cell_type": "code",
   "execution_count": 6,
   "metadata": {},
   "outputs": [],
   "source": [
    "#创建自己的nn\n",
    "class Net(nn.Module):\n",
    "    def __init__(self):\n",
    "        super(Net, self).__init__()\n",
    "        self.hidden = nn.Linear(1, 20)\n",
    "        self.predict = nn.Linear(20, 1)\n",
    " \n",
    "    def forward(self, x):\n",
    "        x = F.relu(self.hidden(x))\n",
    "        x = self.predict(x)\n",
    "        return x\n"
   ]
  },
  {
   "cell_type": "code",
   "execution_count": 7,
   "metadata": {},
   "outputs": [],
   "source": [
    "adam_net = Net()\n",
    "# 没有初始化损失\n",
    "# {1: tensor(0.0265, grad_fn=<MseLossBackward>), 2: tensor(0.0121, grad_fn=<MseLossBackward>),\n",
    "# 3: tensor(0.0096, grad_fn=<MseLossBackward>), 4: tensor(0.0109, grad_fn=<MseLossBackward>),\n",
    "# 5: tensor(0.0104, grad_fn=<MseLossBackward>)}\n",
    "#设置优化器和损失函数\n",
    "opt_adam = torch.optim.Adam(adam_net.parameters(), lr=LR)\n",
    "loss_func = nn.MSELoss()"
   ]
  },
  {
   "cell_type": "code",
   "execution_count": 8,
   "metadata": {
    "scrolled": true
   },
   "outputs": [
    {
     "name": "stdout",
     "output_type": "stream",
     "text": [
      "epoch 0\n",
      "step 0\n",
      "step 1\n",
      "step 2\n",
      "step 3\n",
      "step 4\n",
      "step 5\n",
      "step 6\n",
      "step 7\n",
      "step 8\n",
      "step 9\n",
      "step 10\n",
      "step 11\n",
      "step 12\n",
      "step 13\n",
      "epoch 1\n",
      "step 0\n",
      "step 1\n",
      "step 2\n",
      "step 3\n",
      "step 4\n",
      "step 5\n",
      "step 6\n",
      "step 7\n",
      "step 8\n",
      "step 9\n",
      "step 10\n",
      "step 11\n",
      "step 12\n",
      "step 13\n",
      "epoch 2\n",
      "step 0\n",
      "step 1\n",
      "step 2\n",
      "step 3\n",
      "step 4\n",
      "step 5\n",
      "step 6\n",
      "step 7\n",
      "step 8\n",
      "step 9\n",
      "step 10\n",
      "step 11\n",
      "step 12\n",
      "step 13\n",
      "epoch 3\n",
      "step 0\n",
      "step 1\n",
      "step 2\n",
      "step 3\n",
      "step 4\n",
      "step 5\n",
      "step 6\n",
      "step 7\n",
      "step 8\n",
      "step 9\n",
      "step 10\n",
      "step 11\n",
      "step 12\n",
      "step 13\n",
      "epoch 4\n",
      "step 0\n",
      "step 1\n",
      "step 2\n",
      "step 3\n",
      "step 4\n",
      "step 5\n",
      "step 6\n",
      "step 7\n",
      "step 8\n",
      "step 9\n",
      "step 10\n",
      "step 11\n",
      "step 12\n",
      "step 13\n",
      "{1: tensor(0.0269, grad_fn=<MseLossBackward>), 2: tensor(0.0173, grad_fn=<MseLossBackward>), 3: tensor(0.0127, grad_fn=<MseLossBackward>), 4: tensor(0.0112, grad_fn=<MseLossBackward>), 5: tensor(0.0097, grad_fn=<MseLossBackward>)}\n"
     ]
    }
   ],
   "source": [
    "#对数据进行分批训练\n",
    "# 在神经网络中传递完整的数据集一次是不够的，\n",
    "# 而且我们需要将完整的数据集在同样的神经网络中传递多次。\n",
    "# 但是请记住，我们使用的是有限的数据集，\n",
    "# 并且我们使用一个迭代过程即梯度下降。因此仅仅更新权重一次或者说使用一个 epoch 是不够的。\n",
    "# 比如对于一个有 2000 个训练样本的数据集。将 2000 个样本分成大小为 500 的 batch，那么完成一个 epoch 需要 4 个 iteration。\n",
    "all_loss = {}\n",
    "for epoch in range(EPOCH):\n",
    "    print('epoch', epoch)\n",
    "    for step, (b_x, b_y) in enumerate(loader):\n",
    "        print('step', step)\n",
    "        pre = adam_net(b_x)\n",
    "        loss = loss_func(pre, b_y)\n",
    "        opt_adam.zero_grad()\n",
    "        loss.backward()\n",
    "        opt_adam.step()\n",
    "        # print(loss)\n",
    "        all_loss[epoch+1] = loss\n",
    "print(all_loss)"
   ]
  },
  {
   "cell_type": "code",
   "execution_count": 9,
   "metadata": {},
   "outputs": [
    {
     "data": {
      "image/png": "[encoded data removed]",
      "text/plain": [
       "<Figure size 432x288 with 1 Axes>"
      ]
     },
     "metadata": {
      "needs_background": "light"
     },
     "output_type": "display_data"
    }
   ],
   "source": [
    "#对测试集进行预测\n",
    "adam_net.eval()\n",
    "predict = adam_net(X_test)\n",
    "predict = predict.data.numpy()\n",
    "plt.scatter(X_test.numpy(), y_test, label='origin')\n",
    "plt.scatter(X_test.numpy(), predict, color='red', label='predict')\n",
    "plt.legend()\n",
    "plt.show()\n"
   ]
  },
  {
   "cell_type": "code",
   "execution_count": null,
   "metadata": {},
   "outputs": [],
   "source": []
  },
  {
   "cell_type": "code",
   "execution_count": 10,
   "metadata": {
    "scrolled": true
   },
   "outputs": [
    {
     "name": "stdout",
     "output_type": "stream",
     "text": [
      "epoch 0\n",
      "step 0\n",
      "step 1\n",
      "step 2\n",
      "step 3\n",
      "step 4\n",
      "step 5\n",
      "step 6\n",
      "step 7\n",
      "step 8\n",
      "step 9\n",
      "step 10\n",
      "step 11\n",
      "step 12\n",
      "step 13\n",
      "epoch 1\n",
      "step 0\n",
      "step 1\n",
      "step 2\n",
      "step 3\n",
      "step 4\n",
      "step 5\n",
      "step 6\n",
      "step 7\n",
      "step 8\n",
      "step 9\n",
      "step 10\n",
      "step 11\n",
      "step 12\n",
      "step 13\n",
      "epoch 2\n",
      "step 0\n",
      "step 1\n",
      "step 2\n",
      "step 3\n",
      "step 4\n",
      "step 5\n",
      "step 6\n",
      "step 7\n",
      "step 8\n",
      "step 9\n",
      "step 10\n",
      "step 11\n",
      "step 12\n",
      "step 13\n",
      "epoch 3\n",
      "step 0\n",
      "step 1\n",
      "step 2\n",
      "step 3\n",
      "step 4\n",
      "step 5\n",
      "step 6\n",
      "step 7\n",
      "step 8\n",
      "step 9\n",
      "step 10\n",
      "step 11\n",
      "step 12\n",
      "step 13\n",
      "epoch 4\n",
      "step 0\n",
      "step 1\n",
      "step 2\n",
      "step 3\n",
      "step 4\n",
      "step 5\n",
      "step 6\n",
      "step 7\n",
      "step 8\n",
      "step 9\n",
      "step 10\n",
      "step 11\n",
      "step 12\n",
      "step 13\n",
      "{1: tensor(0.0297, grad_fn=<MseLossBackward>), 2: tensor(0.0136, grad_fn=<MseLossBackward>), 3: tensor(0.0123, grad_fn=<MseLossBackward>), 4: tensor(0.0189, grad_fn=<MseLossBackward>), 5: tensor(0.0091, grad_fn=<MseLossBackward>)}\n"
     ]
    },
    {
     "data": {
      "image/png": "[encoded data removed]",
      "text/plain": [
       "<Figure size 432x288 with 1 Axes>"
      ]
     },
     "metadata": {
      "needs_background": "light"
     },
     "output_type": "display_data"
    }
   ],
   "source": [
    "# 有初始化损失 xavier_normal  ：\n",
    "#{1: tensor(0.0972, grad_fn=<MseLossBackward>), 2: tensor(0.0731, grad_fn=<MseLossBackward>),\n",
    "# 3: tensor(0.0881, grad_fn=<MseLossBackward>), 4: tensor(0.1120, grad_fn=<MseLossBackward>),\n",
    "# 5: tensor(0.1012, grad_fn=<MseLossBackward>)}\n",
    "\n",
    "def weights_init(m):\n",
    "    if isinstance(m, nn.Linear):\n",
    "        init.xavier_normal_(m.weight.data)\n",
    "        init.zeros_(m.bias.data)\n",
    "\n",
    "adam_net = Net()\n",
    "adam_net.apply(weights_init) # 对整个网络层进行参数初始化\n",
    "\n",
    "opt_adam = torch.optim.Adam(adam_net.parameters(), lr=LR)\n",
    "\n",
    "all_loss = {}\n",
    "for epoch in range(EPOCH):\n",
    "    print('epoch', epoch)\n",
    "    for step, (b_x, b_y) in enumerate(loader):\n",
    "        print('step', step)\n",
    "        pre = adam_net(b_x)\n",
    "        loss = loss_func(pre, b_y)\n",
    "        opt_adam.zero_grad()\n",
    "        loss.backward()\n",
    "        opt_adam.step()\n",
    "        # print(loss)\n",
    "        all_loss[epoch+1] = loss\n",
    "print(all_loss)\n",
    "\n",
    "#对测试集进行预测\n",
    "adam_net.eval()\n",
    "predict = adam_net(X_test)\n",
    "predict = predict.data.numpy()\n",
    "plt.scatter(X_test.numpy(), y_test, label='origin')\n",
    "plt.scatter(X_test.numpy(), predict, color='red', label='predict')\n",
    "plt.legend()\n",
    "plt.show()"
   ]
  },
  {
   "cell_type": "code",
   "execution_count": 12,
   "metadata": {
    "scrolled": true
   },
   "outputs": [
    {
     "name": "stdout",
     "output_type": "stream",
     "text": [
      "epoch 0\n",
      "step 0\n",
      "step 1\n",
      "step 2\n",
      "step 3\n",
      "step 4\n",
      "step 5\n",
      "step 6\n",
      "step 7\n",
      "step 8\n",
      "step 9\n",
      "step 10\n",
      "step 11\n",
      "step 12\n",
      "step 13\n",
      "epoch 1\n",
      "step 0\n",
      "step 1\n",
      "step 2\n",
      "step 3\n",
      "step 4\n",
      "step 5\n",
      "step 6\n",
      "step 7\n",
      "step 8\n",
      "step 9\n",
      "step 10\n",
      "step 11\n",
      "step 12\n",
      "step 13\n",
      "epoch 2\n",
      "step 0\n",
      "step 1\n",
      "step 2\n",
      "step 3\n",
      "step 4\n",
      "step 5\n",
      "step 6\n",
      "step 7\n",
      "step 8\n",
      "step 9\n",
      "step 10\n",
      "step 11\n",
      "step 12\n",
      "step 13\n",
      "epoch 3\n",
      "step 0\n",
      "step 1\n",
      "step 2\n",
      "step 3\n",
      "step 4\n",
      "step 5\n",
      "step 6\n",
      "step 7\n",
      "step 8\n",
      "step 9\n",
      "step 10\n",
      "step 11\n",
      "step 12\n",
      "step 13\n",
      "epoch 4\n",
      "step 0\n",
      "step 1\n",
      "step 2\n",
      "step 3\n",
      "step 4\n",
      "step 5\n",
      "step 6\n",
      "step 7\n",
      "step 8\n",
      "step 9\n",
      "step 10\n",
      "step 11\n",
      "step 12\n",
      "step 13\n",
      "{1: tensor(0.0281, grad_fn=<MseLossBackward>), 2: tensor(0.0137, grad_fn=<MseLossBackward>), 3: tensor(0.0146, grad_fn=<MseLossBackward>), 4: tensor(0.0134, grad_fn=<MseLossBackward>), 5: tensor(0.0182, grad_fn=<MseLossBackward>)}\n"
     ]
    },
    {
     "data": {
      "image/png": "[encoded data removed]",
      "text/plain": [
       "<Figure size 432x288 with 1 Axes>"
      ]
     },
     "metadata": {
      "needs_background": "light"
     },
     "output_type": "display_data"
    }
   ],
   "source": [
    "# 有初始化损失 kaiming_normal  ： 表现相对较好---\n",
    "#{1: tensor(0.1476, grad_fn=<MseLossBackward>), 2: tensor(0.0234, grad_fn=<MseLossBackward>),\n",
    "# 3: tensor(0.0162, grad_fn=<MseLossBackward>), 4: tensor(0.0170, grad_fn=<MseLossBackward>),\n",
    "# 5: tensor(0.0218, grad_fn=<MseLossBackward>)}\n",
    "\n",
    "def weights_init(m):\n",
    "    if isinstance(m, nn.Linear):\n",
    "        init.kaiming_normal_(m.weight.data)\n",
    "        init.zeros_(m.bias.data)\n",
    "\n",
    "adam_net = Net()\n",
    "adam_net.apply(weights_init) # 对整个网络层进行参数初始化\n",
    "\n",
    "opt_adam = torch.optim.Adam(adam_net.parameters(), lr=LR)\n",
    "\n",
    "all_loss = {}\n",
    "for epoch in range(EPOCH):\n",
    "    print('epoch', epoch)\n",
    "    for step, (b_x, b_y) in enumerate(loader):\n",
    "        print('step', step)\n",
    "        pre = adam_net(b_x)\n",
    "        loss = loss_func(pre, b_y)\n",
    "        opt_adam.zero_grad()\n",
    "        loss.backward()\n",
    "        opt_adam.step()\n",
    "        # print(loss)\n",
    "        all_loss[epoch+1] = loss\n",
    "print(all_loss)\n",
    "\n",
    "#对测试集进行预测\n",
    "adam_net.eval()\n",
    "predict = adam_net(X_test)\n",
    "predict = predict.data.numpy()\n",
    "plt.scatter(X_test.numpy(), y_test, label='origin')\n",
    "plt.scatter(X_test.numpy(), predict, color='red', label='predict')\n",
    "plt.legend()\n",
    "plt.show()"
   ]
  },
  {
   "cell_type": "code",
   "execution_count": null,
   "metadata": {},
   "outputs": [],
   "source": []
  }
 ],
 "metadata": {
  "kernelspec": {
   "display_name": "Python [conda env:pytorch-cuda]",
   "language": "python",
   "name": "conda-env-pytorch-cuda-py"
  },
  "language_info": {
   "codemirror_mode": {
    "name": "ipython",
    "version": 3
   },
   "file_extension": ".py",
   "mimetype": "text/x-python",
   "name": "python",
   "nbconvert_exporter": "python",
   "pygments_lexer": "ipython3",
   "version": "3.7.7"
  }
 },
 "nbformat": 4,
 "nbformat_minor": 2
}
